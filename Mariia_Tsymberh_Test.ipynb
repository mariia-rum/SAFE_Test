{
 "cells": [
  {
   "cell_type": "markdown",
   "id": "d1e77551",
   "metadata": {},
   "source": [
    "# Libraries Import "
   ]
  },
  {
   "cell_type": "code",
   "execution_count": 186,
   "id": "a87b4e2f",
   "metadata": {},
   "outputs": [],
   "source": [
    "import requests\n",
    "import json\n",
    "import pandas as pd"
   ]
  },
  {
   "cell_type": "markdown",
   "id": "6e064c3e",
   "metadata": {},
   "source": [
    "# STEP BY STEP SOLUTION \n",
    "\n",
    "  "
   ]
  },
  {
   "cell_type": "code",
   "execution_count": 187,
   "id": "fd0b4a23",
   "metadata": {},
   "outputs": [
    {
     "name": "stdout",
     "output_type": "stream",
     "text": [
      "Response received!\n"
     ]
    }
   ],
   "source": [
    "# The API endpoint\n",
    "url = \"https://safe-transaction-mainnet.safe.global/api/v1/safes/0xBbA4C8eB57DF16c4CfAbe4e9A3Ab697A3e0C65D8/multisig-transactions/\"\n",
    "# A GET request to the API\n",
    "response = requests.get(url)\n",
    "if response.status_code == 200:\n",
    "    print(\"Response received!\")\n",
    "else:\n",
    "    print(\"Something went wrong\")"
   ]
  },
  {
   "cell_type": "code",
   "execution_count": 183,
   "id": "d5907aa4",
   "metadata": {},
   "outputs": [
    {
     "name": "stdout",
     "output_type": "stream",
     "text": [
      "<class 'pandas.core.frame.DataFrame'>\n",
      "RangeIndex: 100 entries, 0 to 99\n",
      "Data columns (total 5 columns):\n",
      " #   Column            Non-Null Count  Dtype \n",
      "---  ------            --------------  ----- \n",
      " 0   count             100 non-null    int64 \n",
      " 1   next              100 non-null    object\n",
      " 2   previous          0 non-null      object\n",
      " 3   results           100 non-null    object\n",
      " 4   countUniqueNonce  100 non-null    int64 \n",
      "dtypes: int64(2), object(3)\n",
      "memory usage: 4.0+ KB\n"
     ]
    },
    {
     "data": {
      "text/html": [
       "<div>\n",
       "<style scoped>\n",
       "    .dataframe tbody tr th:only-of-type {\n",
       "        vertical-align: middle;\n",
       "    }\n",
       "\n",
       "    .dataframe tbody tr th {\n",
       "        vertical-align: top;\n",
       "    }\n",
       "\n",
       "    .dataframe thead th {\n",
       "        text-align: right;\n",
       "    }\n",
       "</style>\n",
       "<table border=\"1\" class=\"dataframe\">\n",
       "  <thead>\n",
       "    <tr style=\"text-align: right;\">\n",
       "      <th></th>\n",
       "      <th>count</th>\n",
       "      <th>next</th>\n",
       "      <th>previous</th>\n",
       "      <th>results</th>\n",
       "      <th>countUniqueNonce</th>\n",
       "    </tr>\n",
       "  </thead>\n",
       "  <tbody>\n",
       "    <tr>\n",
       "      <th>0</th>\n",
       "      <td>1488</td>\n",
       "      <td>https://safe-transaction-mainnet.safe.global/a...</td>\n",
       "      <td>None</td>\n",
       "      <td>{'safe': '0xBbA4C8eB57DF16c4CfAbe4e9A3Ab697A3e...</td>\n",
       "      <td>1427</td>\n",
       "    </tr>\n",
       "    <tr>\n",
       "      <th>1</th>\n",
       "      <td>1488</td>\n",
       "      <td>https://safe-transaction-mainnet.safe.global/a...</td>\n",
       "      <td>None</td>\n",
       "      <td>{'safe': '0xBbA4C8eB57DF16c4CfAbe4e9A3Ab697A3e...</td>\n",
       "      <td>1427</td>\n",
       "    </tr>\n",
       "    <tr>\n",
       "      <th>2</th>\n",
       "      <td>1488</td>\n",
       "      <td>https://safe-transaction-mainnet.safe.global/a...</td>\n",
       "      <td>None</td>\n",
       "      <td>{'safe': '0xBbA4C8eB57DF16c4CfAbe4e9A3Ab697A3e...</td>\n",
       "      <td>1427</td>\n",
       "    </tr>\n",
       "    <tr>\n",
       "      <th>3</th>\n",
       "      <td>1488</td>\n",
       "      <td>https://safe-transaction-mainnet.safe.global/a...</td>\n",
       "      <td>None</td>\n",
       "      <td>{'safe': '0xBbA4C8eB57DF16c4CfAbe4e9A3Ab697A3e...</td>\n",
       "      <td>1427</td>\n",
       "    </tr>\n",
       "    <tr>\n",
       "      <th>4</th>\n",
       "      <td>1488</td>\n",
       "      <td>https://safe-transaction-mainnet.safe.global/a...</td>\n",
       "      <td>None</td>\n",
       "      <td>{'safe': '0xBbA4C8eB57DF16c4CfAbe4e9A3Ab697A3e...</td>\n",
       "      <td>1427</td>\n",
       "    </tr>\n",
       "  </tbody>\n",
       "</table>\n",
       "</div>"
      ],
      "text/plain": [
       "   count                                               next previous  \\\n",
       "0   1488  https://safe-transaction-mainnet.safe.global/a...     None   \n",
       "1   1488  https://safe-transaction-mainnet.safe.global/a...     None   \n",
       "2   1488  https://safe-transaction-mainnet.safe.global/a...     None   \n",
       "3   1488  https://safe-transaction-mainnet.safe.global/a...     None   \n",
       "4   1488  https://safe-transaction-mainnet.safe.global/a...     None   \n",
       "\n",
       "                                             results  countUniqueNonce  \n",
       "0  {'safe': '0xBbA4C8eB57DF16c4CfAbe4e9A3Ab697A3e...              1427  \n",
       "1  {'safe': '0xBbA4C8eB57DF16c4CfAbe4e9A3Ab697A3e...              1427  \n",
       "2  {'safe': '0xBbA4C8eB57DF16c4CfAbe4e9A3Ab697A3e...              1427  \n",
       "3  {'safe': '0xBbA4C8eB57DF16c4CfAbe4e9A3Ab697A3e...              1427  \n",
       "4  {'safe': '0xBbA4C8eB57DF16c4CfAbe4e9A3Ab697A3e...              1427  "
      ]
     },
     "execution_count": 183,
     "metadata": {},
     "output_type": "execute_result"
    }
   ],
   "source": [
    "response_json = response.json()\n",
    "# Convert response from dictionary to DataFrame \n",
    "new = pd.DataFrame.from_dict(response_json)\n",
    "# Short info about the DataFrame\n",
    "new.info()\n",
    "# Check how DataFrame looks like\n",
    "new.head()"
   ]
  },
  {
   "cell_type": "code",
   "execution_count": 182,
   "id": "cb2b0455",
   "metadata": {},
   "outputs": [],
   "source": [
    "# Unnest column results that contains origin column and drop unnecessary column after\n",
    "df = pd.concat([new, new[\"results\"].apply(pd.Series)], axis=1)\n",
    "df_final = df.drop(columns=\"results\")\n",
    "# Check how DataFrame looks like after unnesting\n",
    "df_final.head()"
   ]
  },
  {
   "cell_type": "code",
   "execution_count": 184,
   "id": "ff88c702",
   "metadata": {},
   "outputs": [
    {
     "name": "stdout",
     "output_type": "stream",
     "text": [
      "There are 19 of 'WalletConnect transactions' made with this Safe.\n"
     ]
    }
   ],
   "source": [
    "# Return only those rows that contain Wallet Connect pattern in columns \"origin\"\n",
    "df_count = df_final.loc[df.origin.str.contains('WalletConnect',case=False, na=False), :]\n",
    "print(\"There are\" , len(df_count) , \"of 'WalletConnec transactions' made with this Safe.\")"
   ]
  },
  {
   "cell_type": "markdown",
   "id": "cfd2c5cd",
   "metadata": {},
   "source": [
    "# SOLUTION AS A FUNCTION "
   ]
  },
  {
   "cell_type": "code",
   "execution_count": 178,
   "id": "c71c0518",
   "metadata": {},
   "outputs": [
    {
     "name": "stdout",
     "output_type": "stream",
     "text": [
      "There are 19 of 'WalletConnect transactions' made with this Safe.\n"
     ]
    }
   ],
   "source": [
    "def my_function(url):\n",
    "    # A GET request to the API\n",
    "    response = requests.get(url)\n",
    "    if response.status_code == 200:\n",
    "        response_json = response.json()\n",
    "        # Convert response from dictionary to DataFrame \n",
    "        new = pd.DataFrame.from_dict(response_json)\n",
    "        # Unnesting values in results column \n",
    "        df = pd.concat([new, new[\"results\"].apply(pd.Series)], axis=1)\n",
    "        # Counting rows in column origin that contain Wallet Connect pattern \n",
    "        df_count = df_final.loc[df[\"origin\"].str.contains('WalletConnect',case=False, na=False), :]\n",
    "        # Printing out results \n",
    "        print(\"There are\" , len(df_count) , \"of 'WalletConnect transactions' made with this Safe.\")\n",
    "    else:\n",
    "        print(\"Something went wrong!\")\n",
    "\n",
    "my_function(url) "
   ]
  }
 ],
 "metadata": {
  "kernelspec": {
   "display_name": "Python 3 (ipykernel)",
   "language": "python",
   "name": "python3"
  },
  "language_info": {
   "codemirror_mode": {
    "name": "ipython",
    "version": 3
   },
   "file_extension": ".py",
   "mimetype": "text/x-python",
   "name": "python",
   "nbconvert_exporter": "python",
   "pygments_lexer": "ipython3",
   "version": "3.9.13"
  }
 },
 "nbformat": 4,
 "nbformat_minor": 5
}
